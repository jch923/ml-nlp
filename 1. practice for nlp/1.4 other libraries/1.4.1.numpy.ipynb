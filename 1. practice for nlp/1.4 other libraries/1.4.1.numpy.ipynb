{
 "cells": [
  {
   "cell_type": "markdown",
   "metadata": {},
   "source": [
    "## 1.4.1 넘파이\n",
    "### 빠르고 효율적인 계산을 위해 만들어진 파이썬 라이브러리\n",
    "### 고성능의 다차원 배열 객체와 이러한 배열을 계산할 효율적인 도구를 제공"
   ]
  },
  {
   "cell_type": "markdown",
   "metadata": {},
   "source": [
    "### 넘파이 배열"
   ]
  },
  {
   "cell_type": "code",
   "execution_count": 1,
   "metadata": {},
   "outputs": [],
   "source": [
    "# numpy 불러오기\n",
    "import numpy as np"
   ]
  },
  {
   "cell_type": "code",
   "execution_count": 2,
   "metadata": {},
   "outputs": [
    {
     "name": "stdout",
     "output_type": "stream",
     "text": [
      "2\n",
      "(3, 3)\n",
      "9\n",
      "int32\n"
     ]
    }
   ],
   "source": [
    "# 임의의 2차원 배열 생성\n",
    "a = np.array([[1,2,3], [1,5,9], [3,5,7]])\n",
    "\n",
    "# 배열의 축(차원)의 수를 반환\n",
    "print(a.ndim)  \n",
    "# 2 \n",
    "\n",
    "# 배열의 형태를 반환\n",
    "print(a.shape) \n",
    "# (3,3)\n",
    "\n",
    "# 배열 내 원소의 총 개수를 반환\n",
    "print(a.size) \n",
    "# 9\n",
    "\n",
    "# 배열 내 원소들의 자료형을 반환\n",
    "print(a.dtype) \n",
    "# dtype('int32')"
   ]
  },
  {
   "cell_type": "code",
   "execution_count": 3,
   "metadata": {},
   "outputs": [
    {
     "name": "stdout",
     "output_type": "stream",
     "text": [
      "[[0. 0. 0.]\n",
      " [0. 0. 0.]]\n",
      "[[1.]\n",
      " [1.]]\n",
      "[[6.23040373e-307 1.11261434e-306]\n",
      " [6.23055651e-307 1.69120688e-306]]\n",
      "[10 15 20 25]\n",
      "[[4 4]\n",
      " [4 4]]\n",
      "[[1. 0. 0.]\n",
      " [0. 1. 0.]\n",
      " [0. 0. 1.]]\n",
      "[[0.92503201 0.30428946]\n",
      " [0.59491522 0.98109109]]\n"
     ]
    }
   ],
   "source": [
    "#원소가 모두 0인 배열 생성\n",
    "a = np.zeros((2,3))\n",
    "print(a)      \n",
    "# array([[0., 0., 0.],\n",
    "#        [0., 0., 0.]])\n",
    "\n",
    "#원소가 모두 1인 배열 생성\n",
    "b = np.ones((2,1)) \n",
    "print(b)      \n",
    "# array([[1.],\n",
    "#        [1.]])\n",
    "\n",
    "#배열의 크기만 정해주고 원소값을 초기화하지 않은 배열 생성\n",
    "c = np.empty((2,2)) \n",
    "print(c)      \n",
    "# array([[1.96088859e+243, 5.22864540e-067],\n",
    "#        [1.47173270e-052, 1.47214053e-052]])\n",
    "\n",
    "# 파이썬의 range함수와 유사한 형태로 배열 생성, 배열의 원소들이 수열을 구성\n",
    "# 10부터 30전 까지 5단위로 배열 생성\n",
    "d = np.arange(10, 30, 5) \n",
    "print(d)      \n",
    "# array([10, 15, 20, 25])\n",
    "\n",
    "# 배열의 모든 값이 하나의 상수인 배열 생성\n",
    "#원소가 모두 4인 배열 생성\n",
    "e = np.full((2, 2), 4)\n",
    "print(e)      \n",
    "# array([[4, 4],\n",
    "#        [4, 4]])\n",
    "\n",
    "# 지정한 크기의 단위행렬 생성\n",
    "# 3x3 크기의 단위행렬 생성\n",
    "f = np.eye(3) \n",
    "print(f)      \n",
    "# array([[1., 0., 0.],\n",
    "#        [0., 1., 0.]\n",
    "#        [0., 0., 1.]))\n",
    "\n",
    "# 임의값을 가지는 배열 생성\n",
    "g = np.random.random((2, 2)) \n",
    "print(g)      \n",
    "# array([[0.94039485, 0.18284953],\n",
    "#        [0.59283818, 0.48592838]])"
   ]
  },
  {
   "cell_type": "markdown",
   "metadata": {},
   "source": [
    "### 넘파이 기본연산"
   ]
  },
  {
   "cell_type": "code",
   "execution_count": 4,
   "metadata": {},
   "outputs": [
    {
     "name": "stdout",
     "output_type": "stream",
     "text": [
      "[11 22 33]\n",
      "[11 22 33]\n",
      "[ 9 18 27]\n",
      "[ 9 18 27]\n",
      "[1 4 9]\n",
      "[ True False False]\n",
      "[[10 40]\n",
      " [90 40]]\n",
      "[[ 70  40]\n",
      " [150 100]]\n",
      "[[ 70  40]\n",
      " [150 100]]\n"
     ]
    }
   ],
   "source": [
    "# 임의의 1차원 넘파이 배열 생성\n",
    "a = np.array([1, 2, 3])\n",
    "b = np.array([10, 20, 30])\n",
    "\n",
    "# 배열의 합\n",
    "print(a+b)                     \n",
    "# array([11, 22, 33])\n",
    "\n",
    "# 배열의 합\n",
    "print(np.add(a,b)) # 위의 연산과 같다.        \n",
    "# array([11, 22, 33]) \n",
    "\n",
    "# 배열의 차\n",
    "print(b-a)                      \n",
    "# array([9, 18, 27])\n",
    "\n",
    "# 배열의 차\n",
    "print(np.subtract(b,a)) # 위의 연산과 같다.\n",
    "# array([9, 18, 27])\n",
    "\n",
    "# 배열 제곱 연산\n",
    "print(a**2)                   \n",
    "# array([1, 4, 9])\n",
    "\n",
    "# 배열의 원소가 지정한 조건에 맞는지\n",
    "print(b<15)                   \n",
    "# array([True, False, False])\n",
    "\n",
    "\n",
    "# 임의의 2차원 넘파이 배열 생성\n",
    "C = np.array([[1, 2],\n",
    "              [3, 4]])\n",
    "D = np.array([[10, 20],\n",
    "              [30, 10]])\n",
    "# 원소별 곱셈\n",
    "print(C*D)  \n",
    "# array([[10, 40],\n",
    "#        [90, 40]])\n",
    "\n",
    "# 내적(dot product) 계산\n",
    "print(np.dot(C,D)) \n",
    "# array([[ 70,  40],\n",
    "#        [150, 100]])\n",
    "\n",
    "#내적의 또 다른 사용법\n",
    "print(C.dot(D)) \n",
    "# array([[ 70,  40],\n",
    "#        [150, 100]])"
   ]
  },
  {
   "cell_type": "code",
   "execution_count": 5,
   "metadata": {},
   "outputs": [
    {
     "name": "stdout",
     "output_type": "stream",
     "text": [
      "[ 7 11 15 19]\n",
      "[10 26 16]\n",
      "[4 8 7]\n"
     ]
    }
   ],
   "source": [
    "# 임의의 2차원 배열 생성\n",
    "a = np.array([[ 1, 2, 3, 4],\n",
    "              [ 5, 6, 7, 8],\n",
    "              [ 1, 3, 5, 7]])\n",
    "\n",
    "# 0축, 즉 열을 기준으로한 덧셈\n",
    "print(a.sum(axis=0)) \n",
    "# array([7, 11, 15, 19])\n",
    "\n",
    "# 1축, 즉 행을 기준으로한 덧셈\n",
    "print(a.sum(axis=1)) \n",
    "# array([10, 26, 16])\n",
    "\n",
    "# 각 행에서의 최대값\n",
    "print(a.max(axis=1)) \n",
    "# array([4, 8, 7])"
   ]
  },
  {
   "cell_type": "markdown",
   "metadata": {},
   "source": [
    "### 넘파이 배열 인덱싱, 슬라이싱"
   ]
  },
  {
   "cell_type": "code",
   "execution_count": null,
   "metadata": {},
   "outputs": [],
   "source": [
    "# 임의의 배열 생성\n",
    "a = np.array([1, 2, 3, 4, 5, 6, 7])\n",
    "\n",
    "# 4번째 원소 값\n",
    "print(a[3]) \n",
    "# 4\n",
    "\n",
    "# 마지막 원소 값\n",
    "print(a[-1]) \n",
    "# 7\n",
    "\n",
    "# 3번째 원소부터 5번째 원소까지\n",
    "print(a[2: 5]) \n",
    "# array([3, 4, 5])\n",
    "\n",
    "# 3번째 원소부터 끝까지\n",
    "print(a[2: ])\n",
    "# array([3, 4, 5, 6, 7])\n",
    "\n",
    "# 4번째 원소까지\n",
    "print(a[ :4])\n",
    "# array([1, 2, 3, 4])"
   ]
  },
  {
   "cell_type": "code",
   "execution_count": null,
   "metadata": {},
   "outputs": [],
   "source": [
    "# 임의의 2차원 배열 생성\n",
    "a = np.array([[ 1, 2, 3],\n",
    "              [ 4, 5, 6],\n",
    "              [ 7, 8, 9]])\n",
    "\n",
    "# 2행 3열의 원소 값\n",
    "print(a[1, 2])\n",
    "# 6\n",
    "\n",
    "# 2열의 모든 원소\n",
    "print(a[ : , 1]) \n",
    "# array([2, 5, 8])\n",
    "\n",
    "# 마지막 행\n",
    "print(a[-1]) \n",
    "# array([7, 8, 9])"
   ]
  },
  {
   "cell_type": "markdown",
   "metadata": {},
   "source": [
    "### 넘파이 배열 형태 변환"
   ]
  },
  {
   "cell_type": "code",
   "execution_count": null,
   "metadata": {},
   "outputs": [],
   "source": [
    "# 임의의 2차원 배열 생성\n",
    "a = np.array([[1, 2, 3, 4],\n",
    "              [5, 6, 7, 8],\n",
    "              [9,10,11,12]])\n",
    "\n",
    "# 1차원 배열(벡터)로 만들어준다.\n",
    "print(a.ravel()) \n",
    "# array([1, 2, 3, 4, 5, 6, 7, 8, 9, 10, 11, 12])\n",
    "\n",
    "# 배열의 형태를 바꾼다.\n",
    "# 2행 6열짜리 배열로 만든다.\n",
    "print(a.reshape(2, 6))\n",
    "# array([[  1,  2,  3,  4,  5,  6],\n",
    "#        [  7,  8,  9, 10, 11, 12]])\n",
    "\n",
    "\n",
    "# 배열을 transpose한다.\n",
    "print(a.T)\n",
    "# array([[  1,  5,  9],\n",
    "#        [  2,  6, 10],\n",
    "#        [  3,  7, 11],\n",
    "#        [  4,  8, 12]])"
   ]
  },
  {
   "cell_type": "code",
   "execution_count": null,
   "metadata": {},
   "outputs": [],
   "source": [
    "# 3행만 지정해주고 열에 -1을 넣으면 자동으로 3행짜리 배열로 reshape한다.\n",
    "print(a.reshape(3, -1)) \n",
    "# array([[  1,  2,  3,  4],\n",
    "#        [  5,  6,  7,  8],\n",
    "#        [  9, 10, 11, 12]]) "
   ]
  },
  {
   "cell_type": "markdown",
   "metadata": {},
   "source": [
    "### 넘파이 브로드캐스팅"
   ]
  },
  {
   "cell_type": "code",
   "execution_count": null,
   "metadata": {},
   "outputs": [],
   "source": [
    "# 브로드 캐스팅을 사용하지 않는 경우\n",
    "\n",
    "a = np.array([[1,2,3], [4,5,6], [7,8,9]])\n",
    "b = np.array([1,0,1])\n",
    "y = np.empty_like(a) # 배열 a와 크기가 같은 원소가 비어있는 배열 생성\n",
    "\n",
    "# 배열 b를 a의 각 행에 더해주기 위해 반복문을 사용한다.\n",
    "for i in range(3):\n",
    "    y[i, : ] = a[i, : ] + b\n",
    "\n",
    "\n",
    "print(y)\n",
    "# array([[  2,  2,  4],\n",
    "#        [  5,  5,  7],\n",
    "#        [  8,  8, 10]])"
   ]
  },
  {
   "cell_type": "code",
   "execution_count": null,
   "metadata": {},
   "outputs": [],
   "source": [
    "# 브로드 캐스팅을 사용하는 경우\n",
    "\n",
    "a = np.array([[1,2,3], [4,5,6], [7,8,9]])\n",
    "b = np.array([1,0,1])\n",
    "\n",
    "c = a + b # c를 따로 선언 할 필요 없이 만들 수 있다.\n",
    "print(c)\n",
    "# array([[  2,  2,  4],\n",
    "#        [  5,  5,  7],\n",
    "#        [  8,  8, 10]])"
   ]
  }
 ],
 "metadata": {
  "kernelspec": {
   "display_name": "Python 3",
   "language": "python",
   "name": "python3"
  },
  "language_info": {
   "codemirror_mode": {
    "name": "ipython",
    "version": 3
   },
   "file_extension": ".py",
   "mimetype": "text/x-python",
   "name": "python",
   "nbconvert_exporter": "python",
   "pygments_lexer": "ipython3",
   "version": "3.8.3"
  }
 },
 "nbformat": 4,
 "nbformat_minor": 2
}
