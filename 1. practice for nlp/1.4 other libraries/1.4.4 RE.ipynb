{
 "cells": [
  {
   "cell_type": "markdown",
   "metadata": {},
   "source": [
    "## 1.4.4 RE\n",
    "### 파이썬의 정규 표현식 라이브러리\n",
    "### 문자열을 쉽게 다룰 수 있기 때문에 문자열 데이터를 주로 다루는 자연어 처리 분야에서 많이 사용한다.\n",
    "### 특히 전처리 과정에서 많이 사용하며, 특정 문자열을 제거하거나 검색 혹은 치환 등에 주로 사용한다."
   ]
  },
  {
   "cell_type": "markdown",
   "metadata": {},
   "source": [
    "### Re 함수\n",
    "\n",
    "- re.compile(pattern): compile함수는 특정 기호를 정규 표현식 객체로 만들어준다. re 라이브러리를 사용하려면 정규 표현식 패턴을 매번 작성해야 하는데, 이 함수를 사용해 패턴을 컴파일하면 필요할 때마다 사용할 수 있다.\n",
    "- re.search(pattern, string): search 함수는 해당 문자열에서 정규 표현식에 해당하는 첫부분을 찾는다.\n",
    "- re.split(pattern, string): split함수는 해당 문자열에서 특정 패턴으로 문자열을 나눠서 리스트로 만든다.\n",
    "- re.sub(pattern, repl, string): sub 함수는 문자열(string)에서 특정 패턴(pattern)을 만족시키는 문자를 사용자가 정의한 문자(repl)로 치환한다."
   ]
  },
  {
   "cell_type": "code",
   "execution_count": 1,
   "metadata": {},
   "outputs": [],
   "source": [
    "import re"
   ]
  },
  {
   "cell_type": "code",
   "execution_count": 2,
   "metadata": {},
   "outputs": [],
   "source": [
    "# 문자 혹은 숫자가 아닌것의 표현식에 관한 기호를 정규 표현식 객체로 만든다.\n",
    "pattern = ' \\W+'\n",
    "re_pattern = re.compile(pattern)"
   ]
  },
  {
   "cell_type": "code",
   "execution_count": 4,
   "metadata": {},
   "outputs": [
    {
     "data": {
      "text/plain": [
       "<re.Match object; span=(0, 3), match='wow'>"
      ]
     },
     "execution_count": 4,
     "metadata": {},
     "output_type": "execute_result"
    }
   ],
   "source": [
    "# 문자혹은 숫자가 처음 나오는 부분을 찾는다.\n",
    "re.search( \"(\\w+)\", \"wow, it is awesome\" )\n",
    "\n",
    "# 범위가(0,3), 찾은 문자는 wow가 나온다.\n",
    "# wow이후로는 띄어쓰기가 나와서 그전까지 문자인 wow가 결과값으로 나온다."
   ]
  },
  {
   "cell_type": "code",
   "execution_count": 8,
   "metadata": {},
   "outputs": [
    {
     "data": {
      "text/plain": [
       "['wow', '', 'it', 'is', 'world', 'of', 'word']"
      ]
     },
     "execution_count": 8,
     "metadata": {},
     "output_type": "execute_result"
    }
   ],
   "source": [
    "# 문자 혹은 숫자가 아닌것을 기준으로 문장을 나누다.\n",
    "re.split(\"\\W\", \"wow, it is world of word\")\n",
    "\n",
    "# 띄어쓰기를 기준으로 문장을 나뉜것을 확인할 수 있다."
   ]
  },
  {
   "cell_type": "code",
   "execution_count": 6,
   "metadata": {},
   "outputs": [
    {
     "data": {
      "text/plain": [
       "'number candy'"
      ]
     },
     "execution_count": 6,
     "metadata": {},
     "output_type": "execute_result"
    }
   ],
   "source": [
    "# string에서 pattern을 만족시키는 문자를 사용자가 정의한 repl로 바꾼다.\n",
    "re.sub(\"\\d\", \"number\", \"7 candy\" )\n",
    "\n",
    "# \\d는 숫자이므로 7이number로 바뀐다."
   ]
  },
  {
   "cell_type": "code",
   "execution_count": null,
   "metadata": {},
   "outputs": [],
   "source": []
  }
 ],
 "metadata": {
  "kernelspec": {
   "display_name": "Python 3",
   "language": "python",
   "name": "python3"
  },
  "language_info": {
   "codemirror_mode": {
    "name": "ipython",
    "version": 3
   },
   "file_extension": ".py",
   "mimetype": "text/x-python",
   "name": "python",
   "nbconvert_exporter": "python",
   "pygments_lexer": "ipython3",
   "version": "3.8.3"
  }
 },
 "nbformat": 4,
 "nbformat_minor": 2
}
