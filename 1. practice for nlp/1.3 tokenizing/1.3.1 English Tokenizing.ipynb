{
 "cells": [
  {
   "cell_type": "markdown",
   "metadata": {},
   "source": [
    "# 1.3 자연어 토크나이징 도구\n",
    "### 자연어 처리를 위해서는 우선 텍스트에 대한 정보를 단위별로 나누는 것이 일반적이다.\n",
    "### 파이썬을 이용하면 이러한 작업을 라이브러리를 통해 간편하게 처리할 수 있다."
   ]
  },
  {
   "cell_type": "markdown",
   "metadata": {},
   "source": [
    "## 1.3.1 영어 토크나이징 라이브러리\n",
    "### 영어의 경우 NLTK와 Spacy가 토크나이징에 많이 쓰이는 대표적인 라이브러리다."
   ]
  },
  {
   "cell_type": "markdown",
   "metadata": {},
   "source": [
    "### NLTK\n",
    "#### NLTK는 파이썬에서 영어 텍스트 전처리 작업을 하는데 많이 쓰이는 라이브러리이다.\n",
    "#### 직관적으로 함수를 쉽게 사용할 수 있게 구성돼 있어 빠르게 텍스트 전처리를 할 수 있다.\n",
    "\n",
    "### 토크나이징\n",
    "#### 토크나이징이란 텍스트에 대해 특정 기준 단위로 문장을 나누는 것을 의미한다.\n",
    "#### 예를들면 문장을 단어로, 전체글을 문장으로 등(한국어의 경우 단어를 음소로 나누는 것도 될 수 있다.)이 될 수 있다."
   ]
  },
  {
   "cell_type": "markdown",
   "metadata": {},
   "source": [
    "### 단어 단위 토크나이징\n",
    "#### 텍스트 데이터를 단어 단위로 나누는 것을 의미한다.\n",
    "#### 라이브러리를 통해 텍스트 데이터를 각 단어를 기준으로 토크나이징 해본다."
   ]
  },
  {
   "cell_type": "code",
   "execution_count": 3,
   "metadata": {},
   "outputs": [],
   "source": [
    "# nltk를 불러온다.\n",
    "import nltk\n",
    "# tokenize모듈에서 word_tokenize를 불러온다.\n",
    "from nltk.tokenize import word_tokenize"
   ]
  },
  {
   "cell_type": "code",
   "execution_count": 4,
   "metadata": {},
   "outputs": [
    {
     "name": "stdout",
     "output_type": "stream",
     "text": [
      "['When', 'selling', 'whale', 'Tokens', ',', 'the', 'seller', 'first', 'takes', 'half', 'of', 'the', 'cost', 'of', 'each', 'sold', 'token', 'from', 'the', 'general', 'supply', '.', 'This', 'money', 'can', 'immediately', 'be', 'used', 'for', 'other', 'whales', 'on', 'the', 'same', 'or', 'another', 'ship', '.', 'Next', ',', 'in', 'clockwise', 'order', 'from', 'the', 'seller', ',', 'each', 'other', 'player', 'can', 'buy', 'one', 'of', 'the', 'sold', 'tokens', 'or', 'pass', '.', 'The', 'other', 'players', 'take', 'turns', 'either', 'buying', 'or', 'passing', ',', 'until', 'all', 'of', 'the', 'sold', 'tokens', 'are', 'bought', ',', 'or', 'all', 'players', 'pass', '.', 'The', 'selling', 'player', 'may', 'not', 'repurchase', 'whales', 'they', 'have', 'sold', '.', 'A', 'buyer', 'pays', 'the', 'full', 'cost', 'of', 'each', 'token', 'to', 'the', 'general', 'supply', ',', 'and', 'adds', 'the', 'whale', 'to', 'their', 'supply', 'to', 'be', 'scored', '.', 'Tokens', 'that', 'are', 'not', 'bought', 'by', 'any', 'player', 'are', 'removed', 'from', 'the', 'game', '.']\n"
     ]
    }
   ],
   "source": [
    "# 임의의 문장을 생성한다\n",
    "sentence = \"When selling whale Tokens, the seller first takes half of the cost of each sold token from the general supply. This money can immediately be used for other whales on the same or another ship. Next, in clockwise order from the seller, each other player can buy one of the sold tokens or pass. The other players take turns either buying or passing, until all of the sold tokens are bought, or all players pass. The selling player may not repurchase whales they have sold. A buyer pays the full cost of each token to the general supply, and adds the whale to their supply to be scored. Tokens that are not bought by any player are removed from the game.\"\n",
    "# 단어단위 토크나이즈 결과를 확인한다\n",
    "print(word_tokenize(sentence))\n",
    "\n",
    "# 단어로 구분되어있고, 특수 문자의 경우 따로 구분 된 것을 볼 수 있다."
   ]
  },
  {
   "cell_type": "markdown",
   "metadata": {},
   "source": [
    "### 문장 단위 토크나이징\n",
    "#### 텍스트 데이터를 문장 단위로 나누는 것을 의미한다.\n",
    "#### 데이터가 문단인 경우 단어 이전에 먼저 문장으로 나눠야 하는 경우가 있다.\n",
    "#### 이 역시 라이브러리를 사용하면 쉽게 토크나이징 할 수 있다."
   ]
  },
  {
   "cell_type": "code",
   "execution_count": 6,
   "metadata": {},
   "outputs": [],
   "source": [
    "# nltk를 불러온다.\n",
    "import nltk\n",
    "# tokenize모듈에서 sent_tokenize를 불러온다.\n",
    "from nltk.tokenize import sent_tokenize"
   ]
  },
  {
   "cell_type": "code",
   "execution_count": 7,
   "metadata": {},
   "outputs": [
    {
     "name": "stdout",
     "output_type": "stream",
     "text": [
      "['When selling whale Tokens, the seller first takes half of the cost of each sold token from the general supply.', 'This money can immediately be used for other whales on the same or another ship.', 'Next, in clockwise order from the seller, each other player can buy one of the sold tokens or pass.', 'The other players take turns either buying or passing, until all of the sold tokens are bought, or all players pass.', 'The selling player may not repurchase whales they have sold.', 'A buyer pays the full cost of each token to the general supply, and adds the whale to their supply to be scored.', 'Tokens that are not bought by any player are removed from the game.']\n"
     ]
    }
   ],
   "source": [
    "# 임의의 텍스트 데이터 생성\n",
    "paragraph = \"When selling whale Tokens, the seller first takes half of the cost of each sold token from the general supply. This money can immediately be used for other whales on the same or another ship. Next, in clockwise order from the seller, each other player can buy one of the sold tokens or pass. The other players take turns either buying or passing, until all of the sold tokens are bought, or all players pass. The selling player may not repurchase whales they have sold. A buyer pays the full cost of each token to the general supply, and adds the whale to their supply to be scored. Tokens that are not bought by any player are removed from the game.\"\n",
    "# 문장단위 토크나이즈의 결과 확인\n",
    "print(sent_tokenize(paragraph))\n",
    "\n",
    "# answkd rlwnsdmfh sksnldjwu dlTsms rjtdmf ghkrdlsgkf tn dlTek."
   ]
  },
  {
   "cell_type": "markdown",
   "metadata": {},
   "source": [
    "### Spacy\n",
    "#### 주로 교육, 연구 목적이 아닌 상업용 목적으로 만들어졌다는 점에서 NLTK와 차리를 가진다.\n",
    "\n",
    "### Spacy 토크나이징\n",
    "#### Spacy는 NLTK와 다르게 단어, 문장 단위 토크나이징 모두 동일한 모듈을 통해 토크나이징 한다."
   ]
  },
  {
   "cell_type": "code",
   "execution_count": 9,
   "metadata": {},
   "outputs": [],
   "source": [
    "# spacy 사용을 위해 불러온다.\n",
    "import spacy"
   ]
  },
  {
   "cell_type": "code",
   "execution_count": 10,
   "metadata": {},
   "outputs": [],
   "source": [
    "# 토크나이징할 객체를 생성하여 변수에 할당한다.\n",
    "nlp = spacy.load('en_core_web_sm')\n",
    "# 임의의 텍스트 데이터를 생성한다.\n",
    "sentence = \"When selling whale Tokens, the seller first takes half of the cost of each sold token from the general supply. This money can immediately be used for other whales on the same or another ship. Next, in clockwise order from the seller, each other player can buy one of the sold tokens or pass. The other players take turns either buying or passing, until all of the sold tokens are bought, or all players pass. The selling player may not repurchase whales they have sold. A buyer pays the full cost of each token to the general supply, and adds the whale to their supply to be scored. Tokens that are not bought by any player are removed from the game.\"\n",
    "# 텍스트에 대해 구문 분석 객체를 반환하고 이를 변수에 할당한다.\n",
    "doc = nlp(sentence)\n",
    "\n",
    "# 이 객체를 가지고 단어 토크나이징과 문장 토크나이징을 할 수 있다."
   ]
  },
  {
   "cell_type": "code",
   "execution_count": 12,
   "metadata": {},
   "outputs": [
    {
     "name": "stdout",
     "output_type": "stream",
     "text": [
      "['When', 'selling', 'whale', 'Tokens', ',', 'the', 'seller', 'first', 'takes', 'half', 'of', 'the', 'cost', 'of', 'each', 'sold', 'token', 'from', 'the', 'general', 'supply', '.', 'This', 'money', 'can', 'immediately', 'be', 'used', 'for', 'other', 'whales', 'on', 'the', 'same', 'or', 'another', 'ship', '.', 'Next', ',', 'in', 'clockwise', 'order', 'from', 'the', 'seller', ',', 'each', 'other', 'player', 'can', 'buy', 'one', 'of', 'the', 'sold', 'tokens', 'or', 'pass', '.', 'The', 'other', 'players', 'take', 'turns', 'either', 'buying', 'or', 'passing', ',', 'until', 'all', 'of', 'the', 'sold', 'tokens', 'are', 'bought', ',', 'or', 'all', 'players', 'pass', '.', 'The', 'selling', 'player', 'may', 'not', 'repurchase', 'whales', 'they', 'have', 'sold', '.', 'A', 'buyer', 'pays', 'the', 'full', 'cost', 'of', 'each', 'token', 'to', 'the', 'general', 'supply', ',', 'and', 'adds', 'the', 'whale', 'to', 'their', 'supply', 'to', 'be', 'scored', '.', 'Tokens', 'that', 'are', 'not', 'bought', 'by', 'any', 'player', 'are', 'removed', 'from', 'the', 'game', '.']\n",
      "['When selling whale Tokens, the seller first takes half of the cost of each sold token from the general supply.', 'This money can immediately be used for other whales on the same or another ship.', 'Next, in clockwise order from the seller, each other player can buy one of the sold tokens or pass.', 'The other players take turns either buying or passing, until all of the sold tokens are bought, or all players pass.', 'The selling player may not repurchase whales they have sold.', 'A buyer pays the full cost of each token to the general supply, and adds the whale to their supply to be scored.', 'Tokens that are not bought by any player are removed from the game.']\n"
     ]
    }
   ],
   "source": [
    "# doc객체를 활용해 리스트 컴프리헨션을 활용하면 간단하게 토크나이징 결과를 확인할 수 있다.\n",
    "word_tokenized_sentence = [token.text for token in doc]\n",
    "sentence_tokenized_list = [sent.text for sent in doc.sents]\n",
    "print(word_tokenized_sentence)\n",
    "print(sentence_tokenized_list)\n",
    "\n",
    "# 각자 단어단위, 문장 단위로 나뉜 것을 확인할 수 있다."
   ]
  },
  {
   "cell_type": "code",
   "execution_count": null,
   "metadata": {},
   "outputs": [],
   "source": []
  }
 ],
 "metadata": {
  "kernelspec": {
   "display_name": "Python 3",
   "language": "python",
   "name": "python3"
  },
  "language_info": {
   "codemirror_mode": {
    "name": "ipython",
    "version": 3
   },
   "file_extension": ".py",
   "mimetype": "text/x-python",
   "name": "python",
   "nbconvert_exporter": "python",
   "pygments_lexer": "ipython3",
   "version": "3.8.3"
  }
 },
 "nbformat": 4,
 "nbformat_minor": 4
}
