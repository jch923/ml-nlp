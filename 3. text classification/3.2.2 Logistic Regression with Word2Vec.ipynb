{
 "cells": [
  {
   "cell_type": "markdown",
   "metadata": {},
   "source": [
    "## 3.2.2 Logistic Regression Example with Word2Vec"
   ]
  },
  {
   "cell_type": "markdown",
   "metadata": {},
   "source": [
    "### Word2Vec Feature Example"
   ]
  },
  {
   "cell_type": "code",
   "execution_count": 1,
   "metadata": {},
   "outputs": [],
   "source": [
    "import os\n",
    "import re\n",
    "\n",
    "import pandas as pd\n",
    "import numpy as np\n",
    "\n",
    "from bs4 import BeautifulSoup\n",
    "from nltk.corpus import stopwords\n",
    "from nltk.tokenize import word_tokenize"
   ]
  },
  {
   "cell_type": "code",
   "execution_count": 2,
   "metadata": {},
   "outputs": [],
   "source": [
    "DATA_IN_PATH = './data_in/'\n",
    "DATA_OUT_PATH = './data_out/'\n",
    "TRAIN_CLEAN_DATA = 'train_clean.csv'\n",
    "\n",
    "RANDOM_SEED = 42\n",
    "TEST_SPLIT = 0.2"
   ]
  },
  {
   "cell_type": "code",
   "execution_count": 3,
   "metadata": {},
   "outputs": [],
   "source": [
    "# 판다스 데이터프레임으로 받아오기\n",
    "train_data = pd.read_csv(DATA_IN_PATH + TRAIN_CLEAN_DATA)"
   ]
  },
  {
   "cell_type": "code",
   "execution_count": 4,
   "metadata": {},
   "outputs": [],
   "source": [
    "# 리뷰값, 라벨값 리스트로 저장\n",
    "reviews = list(train_data['review'])\n",
    "sentiments = list(train_data['sentiment'])"
   ]
  },
  {
   "cell_type": "code",
   "execution_count": 5,
   "metadata": {},
   "outputs": [],
   "source": [
    "# 텍스트 데이터를 각 단어들의 리스트로 나눈다.\n",
    "# word2vec의 경우 단어로 표현된 리스트를 입력값으로 넣어야 하기 때문\n",
    "sentences = []\n",
    "for review in reviews:\n",
    "    sentences.append(review.split())"
   ]
  },
  {
   "cell_type": "code",
   "execution_count": 6,
   "metadata": {},
   "outputs": [],
   "source": [
    "# 학습시 필요한 파라미터\n",
    "\n",
    "# 워드 벡터 특징값 수\n",
    "num_features = 300   \n",
    "# 단어에 대한 최소 빈도수\n",
    "min_word_count = 40   \n",
    "# 프로세스 개수\n",
    "num_workers = 4\n",
    "# 컨텍스트 윈도우 크기\n",
    "context = 10          \n",
    "# 다운 샘플링 비율\n",
    "downsampling = 1e-3\n",
    "\n",
    "# num_features: 각 단어에 대해 임베딩된 벡터의 차원을 정한다\n",
    "# min_word_count: 모델에 의미 있는 단어를 가지고 학습하기 위해 적은 빈도 수의 단어들은 학습하지 않는다.\n",
    "# num_workers: 모델 학습 시 학습을 위한 프로세스 개수를 지정한다.\n",
    "# context: word2vec을 수행하기 위한 컨텍스트 윈도우 크기를 지정한다.\n",
    "# downsampling: word2vec 학습을 수행할 때 빠른 학습을 위해 정답 단어 라벨에 대한 다운샘플링 비율을 지정한다. 보통 0.001이 좋은 성능을 낸다고 한다."
   ]
  },
  {
   "cell_type": "code",
   "execution_count": 7,
   "metadata": {},
   "outputs": [],
   "source": [
    "# 학습 진행 상황 확인\n",
    "import logging\n",
    "logging.basicConfig(format='%(asctime)s : %(levelname)s : %(message)s',\\\n",
    "   level=logging.INFO)"
   ]
  },
  {
   "cell_type": "code",
   "execution_count": 8,
   "metadata": {},
   "outputs": [
    {
     "name": "stderr",
     "output_type": "stream",
     "text": [
      "2020-07-23 17:27:24,963 : INFO : collecting all words and their counts\n",
      "2020-07-23 17:27:24,966 : INFO : PROGRESS: at sentence #0, processed 0 words, keeping 0 word types\n",
      "2020-07-23 17:27:25,180 : INFO : PROGRESS: at sentence #10000, processed 1205223 words, keeping 51374 word types\n",
      "2020-07-23 17:27:25,401 : INFO : PROGRESS: at sentence #20000, processed 2396605 words, keeping 67660 word types\n",
      "2020-07-23 17:27:25,511 : INFO : collected 74065 word types from a corpus of 2988089 raw words and 25000 sentences\n",
      "2020-07-23 17:27:25,512 : INFO : Loading a fresh vocabulary\n",
      "2020-07-23 17:27:25,550 : INFO : effective_min_count=40 retains 8160 unique words (11% of original 74065, drops 65905)\n",
      "2020-07-23 17:27:25,551 : INFO : effective_min_count=40 leaves 2627273 word corpus (87% of original 2988089, drops 360816)\n",
      "2020-07-23 17:27:25,572 : INFO : deleting the raw counts dictionary of 74065 items\n",
      "2020-07-23 17:27:25,574 : INFO : sample=0.001 downsamples 30 most-common words\n",
      "2020-07-23 17:27:25,574 : INFO : downsampling leaves estimated 2494384 word corpus (94.9% of prior 2627273)\n",
      "2020-07-23 17:27:25,588 : INFO : estimated required memory for 8160 words and 300 dimensions: 23664000 bytes\n",
      "2020-07-23 17:27:25,589 : INFO : resetting layer weights\n",
      "2020-07-23 17:27:27,088 : INFO : training model with 4 workers on 8160 vocabulary and 300 features, using sg=0 hs=0 sample=0.001 negative=5 window=10\n",
      "2020-07-23 17:27:28,094 : INFO : EPOCH 1 - PROGRESS: at 42.46% examples, 1066011 words/s, in_qsize 7, out_qsize 0\n",
      "2020-07-23 17:27:29,093 : INFO : EPOCH 1 - PROGRESS: at 85.30% examples, 1067061 words/s, in_qsize 7, out_qsize 0\n",
      "2020-07-23 17:27:29,401 : INFO : worker thread finished; awaiting finish of 3 more threads\n",
      "2020-07-23 17:27:29,404 : INFO : worker thread finished; awaiting finish of 2 more threads\n",
      "2020-07-23 17:27:29,406 : INFO : worker thread finished; awaiting finish of 1 more threads\n",
      "2020-07-23 17:27:29,418 : INFO : worker thread finished; awaiting finish of 0 more threads\n",
      "2020-07-23 17:27:29,419 : INFO : EPOCH - 1 : training on 2988089 raw words (2494628 effective words) took 2.3s, 1072116 effective words/s\n",
      "2020-07-23 17:27:30,423 : INFO : EPOCH 2 - PROGRESS: at 39.12% examples, 983870 words/s, in_qsize 7, out_qsize 0\n",
      "2020-07-23 17:27:31,430 : INFO : EPOCH 2 - PROGRESS: at 82.67% examples, 1031589 words/s, in_qsize 7, out_qsize 0\n",
      "2020-07-23 17:27:31,781 : INFO : worker thread finished; awaiting finish of 3 more threads\n",
      "2020-07-23 17:27:31,788 : INFO : worker thread finished; awaiting finish of 2 more threads\n",
      "2020-07-23 17:27:31,791 : INFO : worker thread finished; awaiting finish of 1 more threads\n",
      "2020-07-23 17:27:31,797 : INFO : worker thread finished; awaiting finish of 0 more threads\n",
      "2020-07-23 17:27:31,797 : INFO : EPOCH - 2 : training on 2988089 raw words (2494645 effective words) took 2.4s, 1050473 effective words/s\n",
      "2020-07-23 17:27:32,804 : INFO : EPOCH 3 - PROGRESS: at 43.72% examples, 1097095 words/s, in_qsize 7, out_qsize 0\n",
      "2020-07-23 17:27:33,813 : INFO : EPOCH 3 - PROGRESS: at 87.51% examples, 1090853 words/s, in_qsize 7, out_qsize 0\n",
      "2020-07-23 17:27:34,065 : INFO : worker thread finished; awaiting finish of 3 more threads\n",
      "2020-07-23 17:27:34,071 : INFO : worker thread finished; awaiting finish of 2 more threads\n",
      "2020-07-23 17:27:34,073 : INFO : worker thread finished; awaiting finish of 1 more threads\n",
      "2020-07-23 17:27:34,079 : INFO : worker thread finished; awaiting finish of 0 more threads\n",
      "2020-07-23 17:27:34,080 : INFO : EPOCH - 3 : training on 2988089 raw words (2494504 effective words) took 2.3s, 1094517 effective words/s\n",
      "2020-07-23 17:27:35,085 : INFO : EPOCH 4 - PROGRESS: at 42.16% examples, 1057950 words/s, in_qsize 7, out_qsize 0\n",
      "2020-07-23 17:27:36,092 : INFO : EPOCH 4 - PROGRESS: at 83.66% examples, 1043660 words/s, in_qsize 7, out_qsize 0\n",
      "2020-07-23 17:27:36,451 : INFO : worker thread finished; awaiting finish of 3 more threads\n",
      "2020-07-23 17:27:36,453 : INFO : worker thread finished; awaiting finish of 2 more threads\n",
      "2020-07-23 17:27:36,453 : INFO : worker thread finished; awaiting finish of 1 more threads\n",
      "2020-07-23 17:27:36,453 : INFO : worker thread finished; awaiting finish of 0 more threads\n",
      "2020-07-23 17:27:36,454 : INFO : EPOCH - 4 : training on 2988089 raw words (2494409 effective words) took 2.4s, 1052396 effective words/s\n",
      "2020-07-23 17:27:37,464 : INFO : EPOCH 5 - PROGRESS: at 41.79% examples, 1044194 words/s, in_qsize 7, out_qsize 0\n",
      "2020-07-23 17:27:38,471 : INFO : EPOCH 5 - PROGRESS: at 83.66% examples, 1041071 words/s, in_qsize 7, out_qsize 0\n",
      "2020-07-23 17:27:38,826 : INFO : worker thread finished; awaiting finish of 3 more threads\n",
      "2020-07-23 17:27:38,834 : INFO : worker thread finished; awaiting finish of 2 more threads\n",
      "2020-07-23 17:27:38,842 : INFO : worker thread finished; awaiting finish of 1 more threads\n",
      "2020-07-23 17:27:38,849 : INFO : worker thread finished; awaiting finish of 0 more threads\n",
      "2020-07-23 17:27:38,849 : INFO : EPOCH - 5 : training on 2988089 raw words (2494297 effective words) took 2.4s, 1043136 effective words/s\n",
      "2020-07-23 17:27:38,850 : INFO : training on a 14940445 raw words (12472483 effective words) took 11.8s, 1060448 effective words/s\n"
     ]
    }
   ],
   "source": [
    "from gensim.models import word2vec\n",
    "\n",
    "# word2vec객체 생성\n",
    "model = word2vec.Word2Vec(sentences, workers=num_workers, \\\n",
    "           size=num_features, min_count = min_word_count, \\\n",
    "            window = context, sample = downsampling)"
   ]
  },
  {
   "cell_type": "code",
   "execution_count": 9,
   "metadata": {},
   "outputs": [],
   "source": [
    "# 문장의 특징 값을 만드는 함수\n",
    "# 리뷰마다 단어의 개수가 모두 다르기 때문에 하나의 형태로 만들어줘야 하기 때문\n",
    "\n",
    "# word: 단어의 모음인 하나의 리뷰가 들어간다.\n",
    "# model: word2vec 모델을 넣는 곳이며, 우리가 학습한 word2vec 모델이 들어간다.\n",
    "# num_features: word2vec으로 임베딩할 때 정했던 벡터의 차원 수를 뜻한다.\n",
    "def get_features(words, model, num_features):\n",
    "    # 출력 벡터 초기화(속도를 빠르게 하기 위함)\n",
    "    feature_vector = np.zeros((num_features),dtype=np.float32)\n",
    "\n",
    "    num_words = 0\n",
    "    \n",
    "    # 어휘사전 준비\n",
    "    index2word_set = set(model.wv.index2word)\n",
    "\n",
    "    for w in words:\n",
    "        if w in index2word_set:\n",
    "            # 사전에 해당하는 벡터를 더함\n",
    "            num_words += 1\n",
    "            feature_vector = np.add(feature_vector, model[w])\n",
    "    \n",
    "    # 문장의 단어 수만큼 나누어 단어 벡터의 평균값을 문장 벡터로 함\n",
    "    feature_vector = np.divide(feature_vector, num_words)\n",
    "    return feature_vector"
   ]
  },
  {
   "cell_type": "code",
   "execution_count": 10,
   "metadata": {},
   "outputs": [],
   "source": [
    "# 전체 리뷰에 대해 각 리뷰의 평균 벡터를 구하는 함수\n",
    "\n",
    "# reviews: 학습 데이터인 전체 리뷰 데이터를 입력하는 인자\n",
    "# model: word2vec 모델을 입력하는 인자. 위 함수와 같이 앞에서 학습시킨 모델을 넣는다.\n",
    "# num_features: word2vec으로 임베딩할 때 정했던 벡터의 차원 수를 뜻한다.\n",
    "def get_dataset(reviews, model, num_features):\n",
    "    dataset = list()\n",
    "\n",
    "    for s in reviews:\n",
    "        dataset.append(get_features(s, model, num_features))\n",
    "\n",
    "    reviewFeatureVecs = np.stack(dataset)\n",
    "    \n",
    "    return reviewFeatureVecs"
   ]
  },
  {
   "cell_type": "code",
   "execution_count": 11,
   "metadata": {},
   "outputs": [
    {
     "name": "stderr",
     "output_type": "stream",
     "text": [
      "<ipython-input-9-48cdc3edcd51>:10: DeprecationWarning: Call to deprecated `__getitem__` (Method will be removed in 4.0.0, use self.wv.__getitem__() instead).\n",
      "  feature_vector = np.add(feature_vector, model[w])\n"
     ]
    }
   ],
   "source": [
    "test_data_vecs = get_dataset(sentences, model, num_features)"
   ]
  },
  {
   "cell_type": "code",
   "execution_count": 12,
   "metadata": {},
   "outputs": [],
   "source": [
    "# 학습, 검증 데이터 분리\n",
    "from sklearn.model_selection import train_test_split\n",
    "import numpy as np\n",
    "\n",
    "X = test_data_vecs\n",
    "y = np.array(sentiments)\n",
    "\n",
    "X_train, X_test, y_train, y_test = train_test_split(X, y, test_size=TEST_SPLIT, random_state=RANDOM_SEED)"
   ]
  },
  {
   "cell_type": "code",
   "execution_count": 13,
   "metadata": {},
   "outputs": [
    {
     "name": "stderr",
     "output_type": "stream",
     "text": [
      "C:\\Users\\jch\\anaconda3\\envs\\pr_tensorflow\\lib\\site-packages\\sklearn\\linear_model\\_logistic.py:762: ConvergenceWarning: lbfgs failed to converge (status=1):\n",
      "STOP: TOTAL NO. of ITERATIONS REACHED LIMIT.\n",
      "\n",
      "Increase the number of iterations (max_iter) or scale the data as shown in:\n",
      "    https://scikit-learn.org/stable/modules/preprocessing.html\n",
      "Please also refer to the documentation for alternative solver options:\n",
      "    https://scikit-learn.org/stable/modules/linear_model.html#logistic-regression\n",
      "  n_iter_i = _check_optimize_result(\n"
     ]
    },
    {
     "data": {
      "text/plain": [
       "LogisticRegression(class_weight='balanced')"
      ]
     },
     "execution_count": 13,
     "metadata": {},
     "output_type": "execute_result"
    }
   ],
   "source": [
    "# 모델 선언, 학습\n",
    "from sklearn.linear_model import LogisticRegression\n",
    "\n",
    "\n",
    "lgs = LogisticRegression(class_weight='balanced')\n",
    "lgs.fit(X_train, y_train)"
   ]
  },
  {
   "cell_type": "code",
   "execution_count": 14,
   "metadata": {},
   "outputs": [
    {
     "name": "stdout",
     "output_type": "stream",
     "text": [
      "------------\n",
      "Accuracy: 0.863400\n",
      "Precision: 0.858594\n",
      "Recall: 0.872568\n",
      "F1-Score: 0.865525\n",
      "AUC: 0.933716\n"
     ]
    }
   ],
   "source": [
    "# 결과 확인\n",
    "predicted = lgs.predict(X_test)\n",
    "from sklearn import metrics\n",
    "\n",
    "fpr, tpr, _ = metrics.roc_curve(y_test, (lgs.predict_proba(X_test)[:, 1]))\n",
    "auc = metrics.auc(fpr, tpr)\n",
    "\n",
    "print(\"------------\")\n",
    "print(\"Accuracy: %f\" % lgs.score(X_test, y_test))  #checking the accuracy\n",
    "print(\"Precision: %f\" % metrics.precision_score(y_test, predicted))\n",
    "print(\"Recall: %f\" % metrics.recall_score(y_test, predicted))\n",
    "print(\"F1-Score: %f\" % metrics.f1_score(y_test, predicted))\n",
    "print(\"AUC: %f\" % auc)"
   ]
  },
  {
   "cell_type": "code",
   "execution_count": 15,
   "metadata": {},
   "outputs": [],
   "source": [
    "# 데이터 제출\n",
    "TEST_CLEAN_DATA = 'test_clean.csv'\n",
    "\n",
    "test_data = pd.read_csv(DATA_IN_PATH + TEST_CLEAN_DATA)\n",
    "\n",
    "# 리뷰를 담은 리스트 생성\n",
    "test_review = list(test_data['review'])"
   ]
  },
  {
   "cell_type": "code",
   "execution_count": 16,
   "metadata": {},
   "outputs": [
    {
     "data": {
      "text/html": [
       "<div>\n",
       "<style scoped>\n",
       "    .dataframe tbody tr th:only-of-type {\n",
       "        vertical-align: middle;\n",
       "    }\n",
       "\n",
       "    .dataframe tbody tr th {\n",
       "        vertical-align: top;\n",
       "    }\n",
       "\n",
       "    .dataframe thead th {\n",
       "        text-align: right;\n",
       "    }\n",
       "</style>\n",
       "<table border=\"1\" class=\"dataframe\">\n",
       "  <thead>\n",
       "    <tr style=\"text-align: right;\">\n",
       "      <th></th>\n",
       "      <th>review</th>\n",
       "      <th>id</th>\n",
       "    </tr>\n",
       "  </thead>\n",
       "  <tbody>\n",
       "    <tr>\n",
       "      <th>0</th>\n",
       "      <td>naturally film main themes mortality nostalgia...</td>\n",
       "      <td>\"12311_10\"</td>\n",
       "    </tr>\n",
       "    <tr>\n",
       "      <th>1</th>\n",
       "      <td>movie disaster within disaster film full great...</td>\n",
       "      <td>\"8348_2\"</td>\n",
       "    </tr>\n",
       "    <tr>\n",
       "      <th>2</th>\n",
       "      <td>movie kids saw tonight child loved one point k...</td>\n",
       "      <td>\"5828_4\"</td>\n",
       "    </tr>\n",
       "    <tr>\n",
       "      <th>3</th>\n",
       "      <td>afraid dark left impression several different ...</td>\n",
       "      <td>\"7186_2\"</td>\n",
       "    </tr>\n",
       "    <tr>\n",
       "      <th>4</th>\n",
       "      <td>accurate depiction small time mob life filmed ...</td>\n",
       "      <td>\"12128_7\"</td>\n",
       "    </tr>\n",
       "  </tbody>\n",
       "</table>\n",
       "</div>"
      ],
      "text/plain": [
       "                                              review          id\n",
       "0  naturally film main themes mortality nostalgia...  \"12311_10\"\n",
       "1  movie disaster within disaster film full great...    \"8348_2\"\n",
       "2  movie kids saw tonight child loved one point k...    \"5828_4\"\n",
       "3  afraid dark left impression several different ...    \"7186_2\"\n",
       "4  accurate depiction small time mob life filmed ...   \"12128_7\""
      ]
     },
     "execution_count": 16,
     "metadata": {},
     "output_type": "execute_result"
    }
   ],
   "source": [
    "test_data.head(5)"
   ]
  },
  {
   "cell_type": "code",
   "execution_count": 17,
   "metadata": {},
   "outputs": [],
   "source": [
    "# 리뷰의 단어의 리스트로 빈 리스트 생성\n",
    "test_sentences = list()\n",
    "\n",
    "# 빈 리스트에 리뷰의 단어를 넣는다\n",
    "for review in test_review:\n",
    "    test_sentences.append(review.split())"
   ]
  },
  {
   "cell_type": "code",
   "execution_count": 18,
   "metadata": {},
   "outputs": [
    {
     "name": "stderr",
     "output_type": "stream",
     "text": [
      "<ipython-input-9-48cdc3edcd51>:10: DeprecationWarning: Call to deprecated `__getitem__` (Method will be removed in 4.0.0, use self.wv.__getitem__() instead).\n",
      "  feature_vector = np.add(feature_vector, model[w])\n"
     ]
    }
   ],
   "source": [
    "# 리뷰의 단어에 word2vec적용\n",
    "test_data_vecs = get_dataset(test_sentences, model, num_features)"
   ]
  },
  {
   "cell_type": "code",
   "execution_count": 19,
   "metadata": {},
   "outputs": [],
   "source": [
    "# 선형 회귀 모델로 예측\n",
    "test_predicted = lgs.predict(test_data_vecs)"
   ]
  },
  {
   "cell_type": "code",
   "execution_count": 20,
   "metadata": {},
   "outputs": [],
   "source": [
    "ids = list(test_data['id'])\n",
    "\n",
    "# id값과 예측 결과값을 판다스 데이터프레임으로 만듦\n",
    "answer_dataset = pd.DataFrame({'id': ids, 'sentiment': test_predicted})"
   ]
  },
  {
   "cell_type": "code",
   "execution_count": 21,
   "metadata": {},
   "outputs": [],
   "source": [
    "# 파일로 저장\n",
    "if not os.path.exists(DATA_OUT_PATH):\n",
    "    os.makedirs(DATA_OUT_PATH)\n",
    "\n",
    "answer_dataset.to_csv(DATA_OUT_PATH + 'lgs_w2v_answer.csv', index=False, quoting=3)"
   ]
  },
  {
   "cell_type": "code",
   "execution_count": null,
   "metadata": {},
   "outputs": [],
   "source": []
  }
 ],
 "metadata": {
  "kernelspec": {
   "display_name": "Python 3",
   "language": "python",
   "name": "python3"
  },
  "language_info": {
   "codemirror_mode": {
    "name": "ipython",
    "version": 3
   },
   "file_extension": ".py",
   "mimetype": "text/x-python",
   "name": "python",
   "nbconvert_exporter": "python",
   "pygments_lexer": "ipython3",
   "version": "3.8.3"
  }
 },
 "nbformat": 4,
 "nbformat_minor": 2
}
